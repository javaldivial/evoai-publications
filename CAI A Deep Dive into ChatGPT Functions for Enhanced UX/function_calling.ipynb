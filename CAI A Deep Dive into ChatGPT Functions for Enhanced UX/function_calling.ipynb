{
 "cells": [
  {
   "cell_type": "markdown",
   "metadata": {},
   "source": [
    "**CAI A Deep Dive into ChatGPT Functions for Enhanced UX**\n",
    "\n",
    "Supporting code for the article: ** medium article URL **\n",
    "\n",
    "Jose Valdivia Leon\n",
    "j.leon@evoai.onmicrosoft.com\n",
    "[LinkedIn Profile](https://www.linkedin.com/in/jose-valdivia-leon-056145/)"
   ]
  },
  {
   "cell_type": "code",
   "execution_count": 1,
   "metadata": {},
   "outputs": [],
   "source": [
    "import openai\n",
    "import json\n",
    "import os\n",
    "\n",
    "# load and set our key\n",
    "openai.api_key = os.environ.get('OPENAI_API_KEY')"
   ]
  },
  {
   "attachments": {},
   "cell_type": "markdown",
   "metadata": {},
   "source": [
    "Completion with Functions: To do this, we want to make sure that we're using version `gpt-3.5-turbo-0613` or later. "
   ]
  },
  {
   "cell_type": "code",
   "execution_count": 2,
   "metadata": {},
   "outputs": [],
   "source": [
    "function_legs = [\n",
    "        {\n",
    "            \"name\": \"get_flight_legs\",\n",
    "            \"description\": \"Get a list representing the flight departure and arrival cities and the departure date.\",\n",
    "            \"parameters\": {\n",
    "                \"type\": \"object\",\n",
    "                \"properties\": {\n",
    "                    \"legs\": {\n",
    "                        \"type\": \"array\",\n",
    "                        \"items\": {\n",
    "                            \"type\": \"object\",\n",
    "                            \"properties\": {\n",
    "                                \"departure_city\": {\n",
    "                                    \"type\": \"string\",\n",
    "                                    \"description\": \"the departure city of the flight leg.\"\n",
    "                                },\n",
    "                                \"arrival_city\": {\n",
    "                                    \"type\": \"string\",\n",
    "                                    \"description\": \"the arrival city of the flight leg\"\n",
    "                                },\n",
    "                                \"departure_date\": {\n",
    "                                    \"type\": \"string\",\n",
    "                                    \"format\": \"date\",\n",
    "                                    \"description\": \"the departure date of the flight leg\"\n",
    "                                }\n",
    "                            },\n",
    "                            \"description\": \"List of departure and arrival cities and the departure date.\"\n",
    "                        }\n",
    "                    }\n",
    "                },\n",
    "                \"required\": [\n",
    "                    \"legs\"\n",
    "                ]\n",
    "            }\n",
    "        }\n",
    "    ]\n"
   ]
  },
  {
   "cell_type": "code",
   "execution_count": 3,
   "metadata": {},
   "outputs": [
    {
     "data": {
      "text/plain": [
       "<OpenAIObject at 0x21bc955cd70> JSON: {\n",
       "  \"index\": 0,\n",
       "  \"message\": {\n",
       "    \"role\": \"assistant\",\n",
       "    \"content\": null,\n",
       "    \"function_call\": {\n",
       "      \"name\": \"get_flight_legs\",\n",
       "      \"arguments\": \"{\\n  \\\"legs\\\": [\\n    {\\n      \\\"departure_city\\\": \\\"Cologne\\\",\\n      \\\"arrival_city\\\": \\\"London\\\",\\n      \\\"departure_date\\\": \\\"2023-07-03\\\"\\n    },\\n    {\\n      \\\"departure_city\\\": \\\"London\\\",\\n      \\\"arrival_city\\\": \\\"Rome\\\",\\n      \\\"departure_date\\\": \\\"2023-07-10\\\"\\n    },\\n    {\\n      \\\"departure_city\\\": \\\"Rome\\\",\\n      \\\"arrival_city\\\": \\\"Cologne\\\",\\n      \\\"departure_date\\\": \\\"2023-07-17\\\"\\n    }\\n  ]\\n}\"\n",
       "    }\n",
       "  },\n",
       "  \"finish_reason\": \"stop\"\n",
       "}"
      ]
     },
     "execution_count": 3,
     "metadata": {},
     "output_type": "execute_result"
    }
   ],
   "source": [
    "system_input = \"Think step by step, check if you have all cities and all dates needed. Don't make assumptions about what values to plug into functions. Ask for clarification if a user request is ambiguous or you need more data. Consider that the current date and time is: Fri Jun 30 2023 11:27:39 GMT+0100 (British Summer Time).\"\n",
    "user_input = \"I'm flying from Cologne to London next Monday, stay in London for 5 days and the fly to Rome for a week, then back to Cologne.\"\n",
    "functions = function_legs\n",
    "\n",
    "completion = openai.ChatCompletion.create(\n",
    "    model=\"gpt-3.5-turbo-0613\",\n",
    "    messages=[\n",
    "        {\"role\": \"system\", \"content\": system_input},\n",
    "        {\"role\": \"user\", \"content\": user_input}\n",
    "        ],\n",
    "    functions=functions,\n",
    "    function_call={\"name\": \"get_flight_legs\"},\n",
    "    temperature=0\n",
    ")\n",
    "\n",
    "reply_content = completion.choices[0]\n",
    "reply_content"
   ]
  },
  {
   "attachments": {},
   "cell_type": "markdown",
   "metadata": {},
   "source": [
    "We can convert this OpenAI object to a more familiar Python dict by doing:"
   ]
  },
  {
   "cell_type": "code",
   "execution_count": 4,
   "metadata": {},
   "outputs": [
    {
     "name": "stdout",
     "output_type": "stream",
     "text": [
      "{'legs': [{'departure_city': 'Cologne', 'arrival_city': 'London', 'departure_date': '2023-07-03'}, {'departure_city': 'London', 'arrival_city': 'Rome', 'departure_date': '2023-07-10'}, {'departure_city': 'Rome', 'arrival_city': 'Cologne', 'departure_date': '2023-07-17'}]}\n",
      "[{'departure_city': 'Cologne', 'arrival_city': 'London', 'departure_date': '2023-07-03'}, {'departure_city': 'London', 'arrival_city': 'Rome', 'departure_date': '2023-07-10'}, {'departure_city': 'Rome', 'arrival_city': 'Cologne', 'departure_date': '2023-07-17'}]\n"
     ]
    }
   ],
   "source": [
    "reply_content = completion.choices[0].message\n",
    "\n",
    "funcs = reply_content.to_dict()['function_call']['arguments']\n",
    "funcs = json.loads(funcs)\n",
    "print(funcs)\n",
    "print(funcs['legs'])\n"
   ]
  }
 ],
 "metadata": {
  "kernelspec": {
   "display_name": "Python 3",
   "language": "python",
   "name": "python3"
  },
  "language_info": {
   "codemirror_mode": {
    "name": "ipython",
    "version": 3
   },
   "file_extension": ".py",
   "mimetype": "text/x-python",
   "name": "python",
   "nbconvert_exporter": "python",
   "pygments_lexer": "ipython3",
   "version": "3.11.3"
  },
  "orig_nbformat": 4
 },
 "nbformat": 4,
 "nbformat_minor": 2
}
